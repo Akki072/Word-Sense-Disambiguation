{
 "cells": [
  {
   "cell_type": "code",
   "execution_count": 3,
   "id": "e61aa437-77e7-4470-9262-98d9152d7442",
   "metadata": {},
   "outputs": [
    {
     "name": "stdout",
     "output_type": "stream",
     "text": [
      "Collecting nltk\n",
      "  Using cached nltk-3.8.1-py3-none-any.whl.metadata (2.8 kB)\n",
      "Collecting click (from nltk)\n",
      "  Using cached click-8.1.7-py3-none-any.whl.metadata (3.0 kB)\n",
      "Collecting joblib (from nltk)\n",
      "  Downloading joblib-1.4.0-py3-none-any.whl.metadata (5.4 kB)\n",
      "Collecting regex>=2021.8.3 (from nltk)\n",
      "  Downloading regex-2024.4.28-cp38-cp38-win_amd64.whl.metadata (41 kB)\n",
      "     ---------------------------------------- 0.0/41.9 kB ? eta -:--:--\n",
      "     ------------------ ------------------- 20.5/41.9 kB 320.0 kB/s eta 0:00:01\n",
      "     -------------------------------------- 41.9/41.9 kB 502.9 kB/s eta 0:00:00\n",
      "Collecting tqdm (from nltk)\n",
      "  Using cached tqdm-4.66.2-py3-none-any.whl.metadata (57 kB)\n",
      "Requirement already satisfied: colorama in c:\\users\\aakas\\anaconda3\\envs\\myenv\\lib\\site-packages (from click->nltk) (0.4.6)\n",
      "Using cached nltk-3.8.1-py3-none-any.whl (1.5 MB)\n",
      "Downloading regex-2024.4.28-cp38-cp38-win_amd64.whl (269 kB)\n",
      "   ---------------------------------------- 0.0/269.0 kB ? eta -:--:--\n",
      "   ---------------- ----------------------- 112.6/269.0 kB 2.2 MB/s eta 0:00:01\n",
      "   ------------------------------------ --- 245.8/269.0 kB 2.5 MB/s eta 0:00:01\n",
      "   ---------------------------------------- 269.0/269.0 kB 2.1 MB/s eta 0:00:00\n",
      "Using cached click-8.1.7-py3-none-any.whl (97 kB)\n",
      "Downloading joblib-1.4.0-py3-none-any.whl (301 kB)\n",
      "   ---------------------------------------- 0.0/301.2 kB ? eta -:--:--\n",
      "   -------------- ------------------------- 112.6/301.2 kB 6.4 MB/s eta 0:00:01\n",
      "   ------------------------------- -------- 235.5/301.2 kB 2.4 MB/s eta 0:00:01\n",
      "   ---------------------------------------- 301.2/301.2 kB 2.3 MB/s eta 0:00:00\n",
      "Using cached tqdm-4.66.2-py3-none-any.whl (78 kB)\n",
      "Installing collected packages: tqdm, regex, joblib, click, nltk\n",
      "Successfully installed click-8.1.7 joblib-1.4.0 nltk-3.8.1 regex-2024.4.28 tqdm-4.66.2\n"
     ]
    }
   ],
   "source": [
    "!pip install nltk\n"
   ]
  },
  {
   "cell_type": "code",
   "execution_count": 4,
   "id": "2277e6cd-8365-4d57-841c-4f713de2beee",
   "metadata": {},
   "outputs": [
    {
     "name": "stderr",
     "output_type": "stream",
     "text": [
      "[nltk_data] Downloading package punkt to\n",
      "[nltk_data]     C:\\Users\\aakas\\AppData\\Roaming\\nltk_data...\n",
      "[nltk_data]   Package punkt is already up-to-date!\n",
      "[nltk_data] Downloading package wordnet to\n",
      "[nltk_data]     C:\\Users\\aakas\\AppData\\Roaming\\nltk_data...\n",
      "[nltk_data]   Package wordnet is already up-to-date!\n",
      "[nltk_data] Downloading package averaged_perceptron_tagger to\n",
      "[nltk_data]     C:\\Users\\aakas\\AppData\\Roaming\\nltk_data...\n",
      "[nltk_data]   Package averaged_perceptron_tagger is already up-to-\n",
      "[nltk_data]       date!\n",
      "[nltk_data] Downloading package stopwords to\n",
      "[nltk_data]     C:\\Users\\aakas\\AppData\\Roaming\\nltk_data...\n",
      "[nltk_data]   Package stopwords is already up-to-date!\n"
     ]
    },
    {
     "name": "stdout",
     "output_type": "stream",
     "text": [
      "Processed Sentences: [['say', 'stole', 'money']]\n",
      "POS Tagged Sentences: [[('say', 'VB'), ('stole', 'JJ'), ('money', 'NN')]]\n",
      "Best Sense: have confidence or faith in\n"
     ]
    }
   ],
   "source": [
    "import nltk\n",
    "from nltk.corpus import wordnet as wn\n",
    "from nltk.tokenize import word_tokenize, RegexpTokenizer\n",
    "from nltk.stem import WordNetLemmatizer\n",
    "from nltk.corpus import stopwords\n",
    "\n",
    "# Ensure necessary NLTK resources are downloaded\n",
    "nltk.download('punkt')\n",
    "nltk.download('wordnet')\n",
    "nltk.download('averaged_perceptron_tagger')\n",
    "nltk.download('stopwords')\n",
    "\n",
    "# Sample sentence\n",
    "text = 'I didn’t say he stole the money.'\n",
    "sentences = nltk.sent_tokenize(text.lower())\n",
    "\n",
    "def preprocess_text(sentences):\n",
    "    \"\"\"Remove punctuation, stop words, and apply lemmatization.\"\"\"\n",
    "    tokenizer = RegexpTokenizer(r'\\w+')\n",
    "    stop_words = set(stopwords.words(\"english\"))\n",
    "    lemmatizer = WordNetLemmatizer()\n",
    "\n",
    "    processed_sentences = []\n",
    "    for sentence in sentences:\n",
    "        # Remove punctuation\n",
    "        words = tokenizer.tokenize(sentence)\n",
    "\n",
    "        # Remove stop words and lemmatize\n",
    "        lemmatized_words = [lemmatizer.lemmatize(word) for word in words if word not in stop_words]\n",
    "        processed_sentences.append(lemmatized_words)\n",
    "    \n",
    "    return processed_sentences\n",
    "\n",
    "processed_sentences = preprocess_text(sentences)\n",
    "print(\"Processed Sentences:\", processed_sentences)\n",
    "\n",
    "def tag_pos(sentences):\n",
    "    \"\"\"Tag sentences with parts of speech.\"\"\"\n",
    "    return [nltk.pos_tag(sentence) for sentence in sentences]\n",
    "\n",
    "tagged_sentences = tag_pos(processed_sentences)\n",
    "print(\"POS Tagged Sentences:\", tagged_sentences)\n",
    "\n",
    "class SimplifiedLesk:\n",
    "    def __init__(self):\n",
    "        self.stopwords = set(stopwords.words('english'))\n",
    "\n",
    "    def disambiguate(self, word, sentence):\n",
    "        \"\"\"Return the best sense from wordnet for the word in the given sentence.\"\"\"\n",
    "        word_senses = wn.synsets(word)\n",
    "        best_sense = word_senses[0]  # Assume that the first sense is most frequent\n",
    "        max_overlap = 0\n",
    "        context = set(word_tokenize(sentence))\n",
    "        \n",
    "        for sense in word_senses:\n",
    "            signature = self.tokenized_gloss(sense)\n",
    "            overlap = self.compute_overlap(signature, context)\n",
    "            if overlap > max_overlap:\n",
    "                max_overlap = overlap\n",
    "                best_sense = sense\n",
    "        \n",
    "        return best_sense\n",
    "\n",
    "    def tokenized_gloss(self, sense):\n",
    "        \"\"\"Return set of token in gloss and examples.\"\"\"\n",
    "        tokens = set(word_tokenize(sense.definition()))\n",
    "        for example in sense.examples():\n",
    "            tokens.update(set(word_tokenize(example)))\n",
    "        return tokens\n",
    "\n",
    "    def compute_overlap(self, signature, context):\n",
    "        \"\"\"Returns the number of words in common between two sets.\"\"\"\n",
    "        gloss = signature.difference(self.stopwords)\n",
    "        return len(gloss.intersection(context))\n",
    "\n",
    "# Sample use of Simplified Lesk Algorithm\n",
    "sentence = \"I banked on the wrong company.\"\n",
    "word = \"bank\"\n",
    "lesk = SimplifiedLesk()\n",
    "best_sense = lesk.disambiguate(word, sentence)\n",
    "print(\"Best Sense:\", best_sense.definition())\n"
   ]
  },
  {
   "cell_type": "code",
   "execution_count": null,
   "id": "9c3afac6-1bb6-4ac5-95e3-71b25d46cfb5",
   "metadata": {},
   "outputs": [],
   "source": []
  }
 ],
 "metadata": {
  "kernelspec": {
   "display_name": "Python 3 (ipykernel)",
   "language": "python",
   "name": "python3"
  },
  "language_info": {
   "codemirror_mode": {
    "name": "ipython",
    "version": 3
   },
   "file_extension": ".py",
   "mimetype": "text/x-python",
   "name": "python",
   "nbconvert_exporter": "python",
   "pygments_lexer": "ipython3",
   "version": "3.8.18"
  }
 },
 "nbformat": 4,
 "nbformat_minor": 5
}
